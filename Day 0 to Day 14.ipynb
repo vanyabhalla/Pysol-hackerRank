{
 "cells": [
  {
   "cell_type": "code",
   "execution_count": null,
   "metadata": {},
   "outputs": [],
   "source": [
    "# Day 0: Hello, World.\n",
    "\n",
    "input_string = input()\n",
    "\n",
    "# Print a string literal saying \"Hello, World.\" to stdout.\n",
    "print('Hello, World.')\n",
    "print(input_string)"
   ]
  },
  {
   "cell_type": "code",
   "execution_count": null,
   "metadata": {},
   "outputs": [],
   "source": [
    "# Day 1: Data Types\n",
    "\n",
    "n=int(input())# Declare second integer, double, and String variables.\n",
    "f=float(input())\n",
    "w=str(input())\n",
    "print(i+n)\n",
    "print(d+f)\n",
    "print(s+w)"
   ]
  },
  {
   "cell_type": "code",
   "execution_count": null,
   "metadata": {},
   "outputs": [],
   "source": [
    "# Day 2: Operators\n",
    "\n",
    "import math\n",
    "import os\n",
    "import random\n",
    "import re\n",
    "import sys\n",
    "\n",
    "# Complete the solve function below.\n",
    "def solve(meal_cost, tip_percent, tax_percent):\n",
    "    tip=meal_cost*(tip_percent/100)\n",
    "    tax=meal_cost*(tax_percent/100)\n",
    "    tot=meal_cost+tip+tax\n",
    "    tot=round(tot)\n",
    "    print(tot)\n",
    "\n",
    "if __name__ == '__main__':\n",
    "    meal_cost = float(input())\n",
    "\n",
    "    tip_percent = int(input())\n",
    "\n",
    "    tax_percent = int(input())\n",
    "\n",
    "    solve(meal_cost, tip_percent, tax_percent)"
   ]
  },
  {
   "cell_type": "code",
   "execution_count": null,
   "metadata": {},
   "outputs": [],
   "source": [
    "# Day 3: Intro to Conditional Statements\n",
    "import math\n",
    "import os\n",
    "import random\n",
    "import re\n",
    "import sys\n",
    "\n",
    "if __name__ == '__main__':\n",
    "    N = int(input())\n",
    "    if N%2!=0:\n",
    "        print(\"Weird\")\n",
    "    else:\n",
    "        if N in range(2,6):\n",
    "            print(\"Not Weird\")\n",
    "        elif N in range(6,21):\n",
    "            print(\"Weird\")\n",
    "        elif N in range(21,101):\n",
    "            print(\"Not Weird\")             "
   ]
  },
  {
   "cell_type": "code",
   "execution_count": null,
   "metadata": {},
   "outputs": [],
   "source": [
    "# Day 4: Class vs. Instance\n",
    "class Person:\n",
    "    def __init__(self,initialAge):\n",
    "        self.age=0\n",
    "        if initialAge<0:\n",
    "            print(\"Age is not valid, setting age to 0.\")\n",
    "        else:\n",
    "            self.age=initialAge    \n",
    "    def amIOld(self):\n",
    "        if age<13:\n",
    "            print(\"You are young.\")\n",
    "        elif 13<=age<18:\n",
    "            print('You are a teenager.')\n",
    "        elif age>=18:\n",
    "            print('You are old.')        \n",
    "    def yearPasses(self):\n",
    "        global age"
   ]
  },
  {
   "cell_type": "code",
   "execution_count": null,
   "metadata": {},
   "outputs": [],
   "source": [
    "# Day 5: Loops\n",
    "import math\n",
    "import os\n",
    "import random\n",
    "import re\n",
    "import sys\n",
    "\n",
    "if __name__ == '__main__':\n",
    "    n = int(input())\n",
    "    for i in range(1,11):\n",
    "       print(n,'x',i,'=',n*i)"
   ]
  },
  {
   "cell_type": "code",
   "execution_count": null,
   "metadata": {},
   "outputs": [],
   "source": [
    "# Day 6: Let's Review\n",
    "T=int(input())\n",
    "for i in range(0,T):\n",
    "    S=str(input())\n",
    "    new=S[0::2]\n",
    "    new1=S[1::2]\n",
    "    print(new,new1)"
   ]
  },
  {
   "cell_type": "code",
   "execution_count": null,
   "metadata": {},
   "outputs": [],
   "source": [
    "# Day 7: Arrays\n",
    "import math\n",
    "import os\n",
    "import random\n",
    "import re\n",
    "import sys\n",
    "\n",
    "if __name__ == '__main__':\n",
    "    n = int(input())\n",
    "\n",
    "    arr = list(map(int, input().rstrip().split()))\n",
    "    arr=arr[::-1]\n",
    "    print(\" \".join(map(str, arr)))"
   ]
  },
  {
   "cell_type": "code",
   "execution_count": null,
   "metadata": {},
   "outputs": [],
   "source": [
    "# Day 8: Dictionaries and Maps\n",
    "d={}\n",
    "n=int(input())\n",
    "\n",
    "for i in range(n):\n",
    "    x = input().split()\n",
    "    d[x[0]] = x[1]\n",
    "while True:\n",
    "    try:\n",
    "        name = input()\n",
    "        if name in d:\n",
    "            print(name, \"=\", d[name], sep=\"\")\n",
    "        else : print(\"Not found\")   \n",
    "    except: break"
   ]
  },
  {
   "cell_type": "code",
   "execution_count": null,
   "metadata": {},
   "outputs": [],
   "source": [
    "# Day 9: Recursion 3\n",
    "import math\n",
    "import os\n",
    "import random\n",
    "import re\n",
    "import sys\n",
    "\n",
    "def factorial(n):\n",
    "    if n<=1:\n",
    "        return 1\n",
    "    else:\n",
    "        return n * factorial(n-1)\n",
    "    \n",
    "if __name__ == '__main__':\n",
    "    fptr = open(os.environ['OUTPUT_PATH'], 'w')\n",
    "\n",
    "    n = int(input())\n",
    "\n",
    "    result = factorial(n)\n",
    "\n",
    "    fptr.write(str(result) + '\\n')\n",
    "\n",
    "    fptr.close()"
   ]
  },
  {
   "cell_type": "code",
   "execution_count": null,
   "metadata": {},
   "outputs": [],
   "source": [
    "# Day 10: Binary Numbers\n",
    "import math\n",
    "import os\n",
    "import random\n",
    "import re\n",
    "import sys\n",
    "\n",
    "if __name__ == '__main__':\n",
    "    n = int(input())\n",
    "    maxi=0\n",
    "    count=0\n",
    "    while n>0:\n",
    "        if n%2==1:\n",
    "            count+=1\n",
    "        else:\n",
    "            if count>maxi:\n",
    "                maxi=count\n",
    "            count=0\n",
    "        n=math.floor(n/2)\n",
    "    if count>maxi:\n",
    "        maxi=count\n",
    "    print(maxi)    "
   ]
  },
  {
   "cell_type": "code",
   "execution_count": null,
   "metadata": {},
   "outputs": [],
   "source": [
    "# Day 11: 2D Arrays\n",
    "import math\n",
    "import os\n",
    "import random\n",
    "import re\n",
    "import sys\n",
    "\n",
    "def matsum(matrix,row,col):\n",
    "    sum=0\n",
    "    sum+=matrix[row-1][col-1]\n",
    "    sum+=matrix[row-1][col]\n",
    "    sum+=matrix[row-1][col+1]\n",
    "    sum+=matrix[row][col]\n",
    "    sum+=matrix[row+1][col-1]\n",
    "    sum+=matrix[row+1][col]\n",
    "    sum+=matrix[row+1][col+1]\n",
    "    return sum\n",
    "\n",
    "if __name__ == '__main__':\n",
    "    arr = []\n",
    "\n",
    "    for _ in range(6):\n",
    "        arr.append(list(map(int, input().rstrip().split())))\n",
    "    max_sum=-55\n",
    "    for i in range(1,5):\n",
    "        for j in range(1,5):\n",
    "            curr_sum=matsum(arr,i,j)\n",
    "            if curr_sum>max_sum:\n",
    "                max_sum=curr_sum\n",
    "    print(max_sum)            "
   ]
  },
  {
   "cell_type": "code",
   "execution_count": null,
   "metadata": {},
   "outputs": [],
   "source": [
    "# Day 12: Inheritance\n",
    "\n",
    "class Student(Person, object):\n",
    "    def __init__(self, firstName, lastName, idNumber, scores):\n",
    "        super().__init__(firstName, lastName, idNumber)\n",
    "        self.scores = scores\n",
    "    def calculate(self):\n",
    "        iAvg = sum(self.scores)/len(self.scores)\n",
    "        return 'O' if iAvg > 89 else 'E' if iAvg > 79 else 'A' if iAvg > 69 else 'P' if iAvg > 54 else 'D' if iAvg > 39 else 'T'        "
   ]
  },
  {
   "cell_type": "code",
   "execution_count": null,
   "metadata": {},
   "outputs": [],
   "source": [
    "# Day 13: Abstract Classes\n",
    "\n",
    "class MyBook(Book):\n",
    "    price = 0\n",
    "    def __init__(self, title, author, price):\n",
    "        super(Book, self).__init__()\n",
    "        self.price = price \n",
    "\n",
    "    def display(self):\n",
    "        print(\"Title: \"+ title)\n",
    "        print(\"Author: \"+ author)\n",
    "        print(\"Price: \"+ str(price))"
   ]
  },
  {
   "cell_type": "code",
   "execution_count": null,
   "metadata": {},
   "outputs": [],
   "source": [
    "# Day 14: Scope\n",
    "  def computeDifference(self):\n",
    "        sorted_elements=sorted(self.__elements)\n",
    "        self.maximumDifference=abs(sorted_elements[-1]-sorted_elements[0])"
   ]
  },
  {
   "cell_type": "code",
   "execution_count": null,
   "metadata": {},
   "outputs": [],
   "source": []
  },
  {
   "cell_type": "code",
   "execution_count": null,
   "metadata": {},
   "outputs": [],
   "source": []
  },
  {
   "cell_type": "code",
   "execution_count": null,
   "metadata": {},
   "outputs": [],
   "source": []
  },
  {
   "cell_type": "code",
   "execution_count": null,
   "metadata": {},
   "outputs": [],
   "source": []
  },
  {
   "cell_type": "code",
   "execution_count": null,
   "metadata": {},
   "outputs": [],
   "source": []
  },
  {
   "cell_type": "code",
   "execution_count": null,
   "metadata": {},
   "outputs": [],
   "source": []
  },
  {
   "cell_type": "code",
   "execution_count": null,
   "metadata": {},
   "outputs": [],
   "source": []
  },
  {
   "cell_type": "code",
   "execution_count": null,
   "metadata": {},
   "outputs": [],
   "source": []
  }
 ],
 "metadata": {
  "kernelspec": {
   "display_name": "Python 3",
   "language": "python",
   "name": "python3"
  },
  "language_info": {
   "codemirror_mode": {
    "name": "ipython",
    "version": 3
   },
   "file_extension": ".py",
   "mimetype": "text/x-python",
   "name": "python",
   "nbconvert_exporter": "python",
   "pygments_lexer": "ipython3",
   "version": "3.7.3"
  }
 },
 "nbformat": 4,
 "nbformat_minor": 4
}
